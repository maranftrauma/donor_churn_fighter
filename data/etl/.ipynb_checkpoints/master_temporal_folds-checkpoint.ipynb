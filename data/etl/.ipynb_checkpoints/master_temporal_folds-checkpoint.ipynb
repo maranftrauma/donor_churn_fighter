{
 "cells": [
  {
   "cell_type": "code",
   "execution_count": 10,
   "metadata": {
    "collapsed": true
   },
   "outputs": [],
   "source": [
    "import datetime as dt\n",
    "from datetime import timedelta"
   ]
  },
  {
   "cell_type": "code",
   "execution_count": 6,
   "metadata": {
    "collapsed": true
   },
   "outputs": [],
   "source": [
    "as_of_date = \"2018-01-31 23:59:59\""
   ]
  },
  {
   "cell_type": "code",
   "execution_count": 7,
   "metadata": {
    "collapsed": true
   },
   "outputs": [],
   "source": [
    "def define_dates(as_of_date,days_before_as_of_date,days_after_as_of_date,i):\n",
    "    as_of_date = dt.datetime.strptime(as_of_date, '%Y-%m-%d %H:%M:%S')\n",
    "    SNAPSHOT_BEGINNING = as_of_date - dt.timedelta(days_before_as_of_date)\n",
    "    SNAPSHOT_END = as_of_date\n",
    "    SNAPSHOT_END_TARGET_PERIOD = as_of_date + timedelta(days_after_as_of_date)\n",
    "    i = i\n",
    "    return (as_of_date,SNAPSHOT_BEGINNING,SNAPSHOT_END,SNAPSHOT_END_TARGET_PERIOD,i)"
   ]
  },
  {
   "cell_type": "code",
   "execution_count": null,
   "metadata": {
    "collapsed": true
   },
   "outputs": [],
   "source": [
    "def run_folds(as_of_date,days_before_as_of_date,days_after_as_of_date):\n",
    "    as_of_date = dt.datetime.strptime(as_of_date, '%Y-%m-%d %H:%M:%S')\n",
    "    SNAPSHOT_BEGINNING = as_of_date - dt.timedelta(days_before_as_of_date)\n",
    "    SNAPSHOT_END = as_of_date\n",
    "    SNAPSHOT_END_TARGET_PERIOD = as_of_date + timedelta(days_after_as_of_date)\n",
    "    i = 1\n",
    "    query = 'f'+'\"\"\"'+ query_inicial + '\"\"\"'\n",
    "    print(query)\n",
    "    con.execute(query)\n",
    "    #con.execute(f+query_analytics)\n",
    "    #con.execute(f+query_ngo)\n",
    "    #con.execute(f+query_transactions)\n",
    "    #con.execute(f+query_donors)\n",
    "    #con.execute(f+query_max)\n",
    "    #con.execute(f+query_payment_method)\n",
    "    #con.execute(f+query_final)"
   ]
  },
  {
   "cell_type": "code",
   "execution_count": 8,
   "metadata": {},
   "outputs": [
    {
     "data": {
      "text/plain": [
       "(datetime.datetime(2018, 1, 31, 23, 59, 59),\n",
       " datetime.datetime(2017, 11, 2, 23, 59, 59),\n",
       " datetime.datetime(2018, 1, 31, 23, 59, 59),\n",
       " datetime.datetime(2018, 4, 1, 23, 59, 59),\n",
       " 1)"
      ]
     },
     "execution_count": 8,
     "metadata": {},
     "output_type": "execute_result"
    }
   ],
   "source": [
    "define_dates(as_of_date = \"2018-01-31 23:59:59\", days_before_as_of_date = 90, days_after_as_of_date = 60,i =1)"
   ]
  },
  {
   "cell_type": "code",
   "execution_count": 9,
   "metadata": {},
   "outputs": [
    {
     "name": "stdout",
     "output_type": "stream",
     "text": [
      "/Users/mac/anaconda3/bin/python\n"
     ]
    }
   ],
   "source": [
    "import sys\n",
    "print(sys.executable)"
   ]
  },
  {
   "cell_type": "code",
   "execution_count": null,
   "metadata": {
    "collapsed": true
   },
   "outputs": [],
   "source": []
  }
 ],
 "metadata": {
  "kernelspec": {
   "display_name": "Python 3",
   "language": "python",
   "name": "python3"
  },
  "language_info": {
   "codemirror_mode": {
    "name": "ipython",
    "version": 3
   },
   "file_extension": ".py",
   "mimetype": "text/x-python",
   "name": "python",
   "nbconvert_exporter": "python",
   "pygments_lexer": "ipython3",
   "version": "3.6.8"
  }
 },
 "nbformat": 4,
 "nbformat_minor": 2
}
